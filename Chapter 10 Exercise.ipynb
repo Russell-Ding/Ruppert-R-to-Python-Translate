{
 "cells": [
  {
   "cell_type": "code",
   "execution_count": 1,
   "metadata": {
    "collapsed": true
   },
   "outputs": [],
   "source": [
    "import pandas as pd\n",
    "import numpy as np\n",
    "from statsmodels.formula.api import ols"
   ]
  },
  {
   "cell_type": "code",
   "execution_count": 2,
   "metadata": {},
   "outputs": [],
   "source": [
    "raw_data=pd.read_csv('Ruppert Dataset/CPS1988.csv')"
   ]
  },
  {
   "cell_type": "code",
   "execution_count": 3,
   "metadata": {},
   "outputs": [
    {
     "data": {
      "text/html": [
       "<div>\n",
       "<table border=\"1\" class=\"dataframe\">\n",
       "  <thead>\n",
       "    <tr style=\"text-align: right;\">\n",
       "      <th></th>\n",
       "      <th>wage</th>\n",
       "      <th>education</th>\n",
       "      <th>experience</th>\n",
       "      <th>ethnicity</th>\n",
       "      <th>smsa</th>\n",
       "      <th>region</th>\n",
       "      <th>parttime</th>\n",
       "    </tr>\n",
       "  </thead>\n",
       "  <tbody>\n",
       "    <tr>\n",
       "      <th>0</th>\n",
       "      <td>354.94</td>\n",
       "      <td>7</td>\n",
       "      <td>45</td>\n",
       "      <td>cauc</td>\n",
       "      <td>yes</td>\n",
       "      <td>northeast</td>\n",
       "      <td>no</td>\n",
       "    </tr>\n",
       "    <tr>\n",
       "      <th>1</th>\n",
       "      <td>123.46</td>\n",
       "      <td>12</td>\n",
       "      <td>1</td>\n",
       "      <td>cauc</td>\n",
       "      <td>yes</td>\n",
       "      <td>northeast</td>\n",
       "      <td>yes</td>\n",
       "    </tr>\n",
       "    <tr>\n",
       "      <th>2</th>\n",
       "      <td>370.37</td>\n",
       "      <td>9</td>\n",
       "      <td>9</td>\n",
       "      <td>cauc</td>\n",
       "      <td>yes</td>\n",
       "      <td>northeast</td>\n",
       "      <td>no</td>\n",
       "    </tr>\n",
       "    <tr>\n",
       "      <th>3</th>\n",
       "      <td>754.94</td>\n",
       "      <td>11</td>\n",
       "      <td>46</td>\n",
       "      <td>cauc</td>\n",
       "      <td>yes</td>\n",
       "      <td>northeast</td>\n",
       "      <td>no</td>\n",
       "    </tr>\n",
       "    <tr>\n",
       "      <th>4</th>\n",
       "      <td>593.54</td>\n",
       "      <td>12</td>\n",
       "      <td>36</td>\n",
       "      <td>cauc</td>\n",
       "      <td>yes</td>\n",
       "      <td>northeast</td>\n",
       "      <td>no</td>\n",
       "    </tr>\n",
       "  </tbody>\n",
       "</table>\n",
       "</div>"
      ],
      "text/plain": [
       "     wage  education  experience ethnicity smsa     region parttime\n",
       "0  354.94          7          45      cauc  yes  northeast       no\n",
       "1  123.46         12           1      cauc  yes  northeast      yes\n",
       "2  370.37          9           9      cauc  yes  northeast       no\n",
       "3  754.94         11          46      cauc  yes  northeast       no\n",
       "4  593.54         12          36      cauc  yes  northeast       no"
      ]
     },
     "execution_count": 3,
     "metadata": {},
     "output_type": "execute_result"
    }
   ],
   "source": [
    "raw_data.head()"
   ]
  },
  {
   "cell_type": "code",
   "execution_count": 4,
   "metadata": {
    "collapsed": true
   },
   "outputs": [],
   "source": [
    "model=ols('wage~education+experience+ethnicity',data=raw_data)\n",
    "result=model.fit()"
   ]
  },
  {
   "cell_type": "code",
   "execution_count": 5,
   "metadata": {},
   "outputs": [
    {
     "data": {
      "text/html": [
       "<table class=\"simpletable\">\n",
       "<caption>OLS Regression Results</caption>\n",
       "<tr>\n",
       "  <th>Dep. Variable:</th>          <td>wage</td>       <th>  R-squared:         </th>  <td>   0.183</td>  \n",
       "</tr>\n",
       "<tr>\n",
       "  <th>Model:</th>                   <td>OLS</td>       <th>  Adj. R-squared:    </th>  <td>   0.183</td>  \n",
       "</tr>\n",
       "<tr>\n",
       "  <th>Method:</th>             <td>Least Squares</td>  <th>  F-statistic:       </th>  <td>   2097.</td>  \n",
       "</tr>\n",
       "<tr>\n",
       "  <th>Date:</th>             <td>Wed, 26 Apr 2017</td> <th>  Prob (F-statistic):</th>   <td>  0.00</td>   \n",
       "</tr>\n",
       "<tr>\n",
       "  <th>Time:</th>                 <td>00:02:40</td>     <th>  Log-Likelihood:    </th> <td>-2.0934e+05</td>\n",
       "</tr>\n",
       "<tr>\n",
       "  <th>No. Observations:</th>      <td> 28155</td>      <th>  AIC:               </th>  <td>4.187e+05</td> \n",
       "</tr>\n",
       "<tr>\n",
       "  <th>Df Residuals:</th>          <td> 28151</td>      <th>  BIC:               </th>  <td>4.187e+05</td> \n",
       "</tr>\n",
       "<tr>\n",
       "  <th>Df Model:</th>              <td>     3</td>      <th>                     </th>      <td> </td>     \n",
       "</tr>\n",
       "<tr>\n",
       "  <th>Covariance Type:</th>      <td>nonrobust</td>    <th>                     </th>      <td> </td>     \n",
       "</tr>\n",
       "</table>\n",
       "<table class=\"simpletable\">\n",
       "<tr>\n",
       "          <td></td>             <th>coef</th>     <th>std err</th>      <th>t</th>      <th>P>|t|</th> <th>[95.0% Conf. Int.]</th> \n",
       "</tr>\n",
       "<tr>\n",
       "  <th>Intercept</th>         <td> -490.5629</td> <td>   15.157</td> <td>  -32.365</td> <td> 0.000</td> <td> -520.272  -460.854</td>\n",
       "</tr>\n",
       "<tr>\n",
       "  <th>ethnicity[T.cauc]</th> <td>  128.3219</td> <td>    9.072</td> <td>   14.145</td> <td> 0.000</td> <td>  110.541   146.103</td>\n",
       "</tr>\n",
       "<tr>\n",
       "  <th>education</th>         <td>   59.9646</td> <td>    0.882</td> <td>   67.971</td> <td> 0.000</td> <td>   58.235    61.694</td>\n",
       "</tr>\n",
       "<tr>\n",
       "  <th>experience</th>        <td>   10.5787</td> <td>    0.195</td> <td>   54.236</td> <td> 0.000</td> <td>   10.196    10.961</td>\n",
       "</tr>\n",
       "</table>\n",
       "<table class=\"simpletable\">\n",
       "<tr>\n",
       "  <th>Omnibus:</th>       <td>40705.622</td> <th>  Durbin-Watson:     </th>   <td>   1.838</td>  \n",
       "</tr>\n",
       "<tr>\n",
       "  <th>Prob(Omnibus):</th>  <td> 0.000</td>   <th>  Jarque-Bera (JB):  </th> <td>69434162.059</td>\n",
       "</tr>\n",
       "<tr>\n",
       "  <th>Skew:</th>           <td> 8.068</td>   <th>  Prob(JB):          </th>   <td>    0.00</td>  \n",
       "</tr>\n",
       "<tr>\n",
       "  <th>Kurtosis:</th>       <td>245.749</td>  <th>  Cond. No.          </th>   <td>    163.</td>  \n",
       "</tr>\n",
       "</table>"
      ],
      "text/plain": [
       "<class 'statsmodels.iolib.summary.Summary'>\n",
       "\"\"\"\n",
       "                            OLS Regression Results                            \n",
       "==============================================================================\n",
       "Dep. Variable:                   wage   R-squared:                       0.183\n",
       "Model:                            OLS   Adj. R-squared:                  0.183\n",
       "Method:                 Least Squares   F-statistic:                     2097.\n",
       "Date:                Wed, 26 Apr 2017   Prob (F-statistic):               0.00\n",
       "Time:                        00:02:40   Log-Likelihood:            -2.0934e+05\n",
       "No. Observations:               28155   AIC:                         4.187e+05\n",
       "Df Residuals:                   28151   BIC:                         4.187e+05\n",
       "Df Model:                           3                                         \n",
       "Covariance Type:            nonrobust                                         \n",
       "=====================================================================================\n",
       "                        coef    std err          t      P>|t|      [95.0% Conf. Int.]\n",
       "-------------------------------------------------------------------------------------\n",
       "Intercept          -490.5629     15.157    -32.365      0.000      -520.272  -460.854\n",
       "ethnicity[T.cauc]   128.3219      9.072     14.145      0.000       110.541   146.103\n",
       "education            59.9646      0.882     67.971      0.000        58.235    61.694\n",
       "experience           10.5787      0.195     54.236      0.000        10.196    10.961\n",
       "==============================================================================\n",
       "Omnibus:                    40705.622   Durbin-Watson:                   1.838\n",
       "Prob(Omnibus):                  0.000   Jarque-Bera (JB):         69434162.059\n",
       "Skew:                           8.068   Prob(JB):                         0.00\n",
       "Kurtosis:                     245.749   Cond. No.                         163.\n",
       "==============================================================================\n",
       "\n",
       "Warnings:\n",
       "[1] Standard Errors assume that the covariance matrix of the errors is correctly specified.\n",
       "\"\"\""
      ]
     },
     "execution_count": 5,
     "metadata": {},
     "output_type": "execute_result"
    }
   ],
   "source": [
    "result.summary()"
   ]
  },
  {
   "cell_type": "code",
   "execution_count": 6,
   "metadata": {},
   "outputs": [],
   "source": [
    "from statsmodels.stats.outliers_influence import OLSInfluence\n",
    "resid_analysis=OLSInfluence(result)\n"
   ]
  },
  {
   "cell_type": "code",
   "execution_count": 7,
   "metadata": {},
   "outputs": [
    {
     "data": {
      "image/png": "[encoded data removed]",
      "text/plain": [
       "<matplotlib.figure.Figure at 0x10c4b1cc0>"
      ]
     },
     "metadata": {},
     "output_type": "display_data"
    }
   ],
   "source": [
    "#plot the residual analysis\n",
    "%matplotlib inline\n",
    "import matplotlib.pyplot as plt\n",
    "from statsmodels.nonparametric.smoothers_lowess import lowess\n",
    "\n",
    "fig, (ax, ax1) = plt.subplots(ncols=2, figsize=(8, 4))\n",
    "\n",
    "ax.plot(result.fittedvalues,resid_analysis.get_resid_studentized_external(), 'ro', label=\"OLS\");\n",
    "low=lowess(resid_analysis.get_resid_studentized_external(),result.fittedvalues,frac=0.2)\n",
    "ax.plot(low[:,0],low[:,1],'b--.', label=\"Lowess\")\n",
    "ax.set_ylim([-1500,1500]);\n",
    "\n",
    "ax1.plot(result.fittedvalues,np.abs(resid_analysis.get_resid_studentized_external()), 'ro', label=\"OLS\");\n",
    "low=lowess(np.abs(resid_analysis.get_resid_studentized_external()),result.fittedvalues,frac=0.2)\n",
    "ax1.plot(low[:,0],low[:,1],'b--.', label=\"Lowess\")\n",
    "ax1.set_ylim([0,1500]);\n"
   ]
  },
  {
   "cell_type": "code",
   "execution_count": 10,
   "metadata": {},
   "outputs": [
    {
     "data": {
      "image/png": "[encoded data removed]",
      "text/plain": [
       "<matplotlib.figure.Figure at 0x1126cb630>"
      ]
     },
     "execution_count": 10,
     "metadata": {},
     "output_type": "execute_result"
    },
    {
     "data": {
      "image/png": "[encoded data removed]",
      "text/plain": [
       "<matplotlib.figure.Figure at 0x1126cb630>"
      ]
     },
     "metadata": {},
     "output_type": "display_data"
    }
   ],
   "source": [
    "from statsmodels.graphics.gofplots import qqplot\n",
    "\n",
    "qqplot(data=resid_analysis.get_resid_studentized_external(),line='45')"
   ]
  },
  {
   "cell_type": "code",
   "execution_count": 9,
   "metadata": {},
   "outputs": [
    {
     "name": "stderr",
     "output_type": "stream",
     "text": [
      "/Users/Russell/anaconda3/lib/python3.6/site-packages/statsmodels/nonparametric/smoothers_lowess.py:165: RuntimeWarning: invalid value encountered in true_divide\n",
      "  res = _lowess(y, x, frac=frac, it=it, delta=delta)\n",
      "/Users/Russell/anaconda3/lib/python3.6/site-packages/numpy/lib/function_base.py:3569: RuntimeWarning: Invalid value encountered in median\n",
      "  RuntimeWarning)\n",
      "/Users/Russell/anaconda3/lib/python3.6/site-packages/statsmodels/nonparametric/smoothers_lowess.py:165: RuntimeWarning: invalid value encountered in greater_equal\n",
      "  res = _lowess(y, x, frac=frac, it=it, delta=delta)\n"
     ]
    },
    {
     "data": {
      "image/png": "[encoded data removed]",
      "text/plain": [
       "<matplotlib.figure.Figure at 0x10c4a2cf8>"
      ]
     },
     "metadata": {},
     "output_type": "display_data"
    }
   ],
   "source": [
    "fig, (ax, ax1) = plt.subplots(ncols=2, figsize=(8, 4))\n",
    "\n",
    "ax.plot(raw_data.education,resid_analysis.get_resid_studentized_external(), 'ro', label=\"OLS\");\n",
    "low=lowess(resid_analysis.get_resid_studentized_external(),raw_data.education,frac=0.2)\n",
    "ax.plot(low[:,0],low[:,1],'b--.', label=\"Lowess\")\n",
    "ax.set_ylim([-1000,1000]);\n",
    "\n",
    "ax1.plot(raw_data.experience,resid_analysis.get_resid_studentized_external(), 'ro', label=\"OLS\");\n",
    "low=lowess(resid_analysis.get_resid_studentized_external(),raw_data.experience,frac=0.2)\n",
    "ax1.plot(low[:,0],low[:,1],'b--.', label=\"Lowess\")\n",
    "ax1.set_ylim([-1000,1000]);"
   ]
  },
  {
   "cell_type": "code",
   "execution_count": null,
   "metadata": {
    "collapsed": true
   },
   "outputs": [],
   "source": []
  }
 ],
 "metadata": {
  "kernelspec": {
   "display_name": "Python 3",
   "language": "python",
   "name": "python3"
  },
  "language_info": {
   "codemirror_mode": {
    "name": "ipython",
    "version": 3
   },
   "file_extension": ".py",
   "mimetype": "text/x-python",
   "name": "python",
   "nbconvert_exporter": "python",
   "pygments_lexer": "ipython3",
   "version": "3.6.0"
  }
 },
 "nbformat": 4,
 "nbformat_minor": 2
}
