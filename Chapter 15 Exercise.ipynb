{
 "cells": [
  {
   "cell_type": "code",
   "execution_count": 1,
   "metadata": {},
   "outputs": [],
   "source": [
    "import pandas as pd\n",
    "import numpy as np\n",
    "import statsmodels.api as sm"
   ]
  },
  {
   "cell_type": "code",
   "execution_count": null,
   "metadata": {},
   "outputs": [],
   "source": [
    "# Read Raw Data\n",
    "\n",
    "data=pd.read_csv('Ruppert Dataset/treasury_yields.csv',index_col=0)\n",
    "data.dropna(inplace=True)"
   ]
  },
  {
   "cell_type": "code",
   "execution_count": null,
   "metadata": {
    "scrolled": true
   },
   "outputs": [],
   "source": [
    "data.head()"
   ]
  },
  {
   "cell_type": "code",
   "execution_count": null,
   "metadata": {},
   "outputs": [],
   "source": [
    "X=data[['1mo','3mo','6mo','2yr','3yr']]\n",
    "X=sm.add_constant(X)\n",
    "Y=data['1yr']\n",
    "results = sm.OLS(Y, X).fit()"
   ]
  },
  {
   "cell_type": "code",
   "execution_count": null,
   "metadata": {},
   "outputs": [],
   "source": [
    "results.summary()"
   ]
  },
  {
   "cell_type": "code",
   "execution_count": null,
   "metadata": {},
   "outputs": [],
   "source": [
    "results.resid"
   ]
  },
  {
   "cell_type": "code",
   "execution_count": null,
   "metadata": {},
   "outputs": [],
   "source": [
    "import statsmodels.tsa as tsa\n",
    "\n",
    "model=tsa.stattools.adfuller(results.resid)\n",
    "print(model)"
   ]
  },
  {
   "cell_type": "code",
   "execution_count": null,
   "metadata": {},
   "outputs": [],
   "source": [
    "acf=tsa.stattools.acf(results.resid)\n",
    "print(acf)"
   ]
  },
  {
   "cell_type": "code",
   "execution_count": null,
   "metadata": {},
   "outputs": [],
   "source": [
    "%mtplotlib inline\n",
    "import matplotlib.pyplot as plt\n",
    "\n",
    "x=range(len(acf))\n",
    "plt.xcorr(x, acf, usevlines=True, maxlags=20, normed=True, lw=2)\n",
    "plt.show()"
   ]
  },
  {
   "cell_type": "code",
   "execution_count": null,
   "metadata": {},
   "outputs": [],
   "source": [
    "#Example 15.2\n",
    "\n",
    "Y=pd.DataFrame(0,columns=['y1','y2'],index=range(5000))\n",
    "a1=0.5\n",
    "a2=0.55\n",
    "lam=1\n",
    "\n",
    "Y['rand1']=np.random.standard_normal(5000)\n",
    "Y['rand2']=np.random.standard_normal(5000)\n",
    "\n",
    "for i in range(1,5000):\n",
    "    Y['y1'].iloc[i]=Y['y1'].iloc[i-1]+a1*(Y['y1'].iloc[i-1]-lam*Y['y2'].iloc[i-1])+Y['rand1'].iloc[i]\n",
    "    Y['y2'].iloc[i]=Y['y2'].iloc[i-1]+a2*(Y['y1'].iloc[i-1]-lam*Y['y2'].iloc[i-1])+Y['rand2'].iloc[i]"
   ]
  },
  {
   "cell_type": "code",
   "execution_count": null,
   "metadata": {
    "scrolled": true
   },
   "outputs": [],
   "source": [
    "%matplotlib inline\n",
    "Y.y1.plot();"
   ]
  },
  {
   "cell_type": "code",
   "execution_count": null,
   "metadata": {},
   "outputs": [],
   "source": [
    "Y.y2.plot();"
   ]
  },
  {
   "cell_type": "code",
   "execution_count": 4,
   "metadata": {},
   "outputs": [],
   "source": [
    "#R Lab Exercise\n",
    "#Midcap Prices\n",
    "stock=pd.read_csv('Ruppert Dataset/midcapD.ts.csv',index_col=0)"
   ]
  },
  {
   "cell_type": "code",
   "execution_count": 6,
   "metadata": {},
   "outputs": [],
   "source": [
    "price=np.exp(stock.cumsum())"
   ]
  },
  {
   "cell_type": "code",
   "execution_count": 7,
   "metadata": {},
   "outputs": [
    {
     "data": {
      "text/html": [
       "<div>\n",
       "<table border=\"1\" class=\"dataframe\">\n",
       "  <thead>\n",
       "    <tr style=\"text-align: right;\">\n",
       "      <th></th>\n",
       "      <th>LSCC</th>\n",
       "      <th>CSGS</th>\n",
       "      <th>EC</th>\n",
       "      <th>NYB</th>\n",
       "      <th>ALTR</th>\n",
       "      <th>APH</th>\n",
       "      <th>CLS</th>\n",
       "      <th>NET</th>\n",
       "      <th>SBUX</th>\n",
       "      <th>AYE</th>\n",
       "      <th>...</th>\n",
       "      <th>SBL</th>\n",
       "      <th>PCZ</th>\n",
       "      <th>OSI</th>\n",
       "      <th>TRP</th>\n",
       "      <th>ROH</th>\n",
       "      <th>SU</th>\n",
       "      <th>MTD</th>\n",
       "      <th>RAD</th>\n",
       "      <th>GUC</th>\n",
       "      <th>market</th>\n",
       "    </tr>\n",
       "    <tr>\n",
       "      <th>X.Y..m..d</th>\n",
       "      <th></th>\n",
       "      <th></th>\n",
       "      <th></th>\n",
       "      <th></th>\n",
       "      <th></th>\n",
       "      <th></th>\n",
       "      <th></th>\n",
       "      <th></th>\n",
       "      <th></th>\n",
       "      <th></th>\n",
       "      <th></th>\n",
       "      <th></th>\n",
       "      <th></th>\n",
       "      <th></th>\n",
       "      <th></th>\n",
       "      <th></th>\n",
       "      <th></th>\n",
       "      <th></th>\n",
       "      <th></th>\n",
       "      <th></th>\n",
       "      <th></th>\n",
       "    </tr>\n",
       "  </thead>\n",
       "  <tbody>\n",
       "    <tr>\n",
       "      <th>2000-01-03</th>\n",
       "      <td>1.031658</td>\n",
       "      <td>1.053085</td>\n",
       "      <td>0.980329</td>\n",
       "      <td>0.990826</td>\n",
       "      <td>1.059723</td>\n",
       "      <td>1.010382</td>\n",
       "      <td>0.960270</td>\n",
       "      <td>0.983740</td>\n",
       "      <td>1.016894</td>\n",
       "      <td>0.963558</td>\n",
       "      <td>...</td>\n",
       "      <td>0.999017</td>\n",
       "      <td>0.978495</td>\n",
       "      <td>0.980908</td>\n",
       "      <td>1.007168</td>\n",
       "      <td>0.992349</td>\n",
       "      <td>0.982196</td>\n",
       "      <td>0.928997</td>\n",
       "      <td>1.069740</td>\n",
       "      <td>1.002186</td>\n",
       "      <td>0.992902</td>\n",
       "    </tr>\n",
       "    <tr>\n",
       "      <th>2000-01-04</th>\n",
       "      <td>0.956883</td>\n",
       "      <td>1.028271</td>\n",
       "      <td>0.931887</td>\n",
       "      <td>0.959086</td>\n",
       "      <td>1.007980</td>\n",
       "      <td>0.976229</td>\n",
       "      <td>0.855932</td>\n",
       "      <td>0.922490</td>\n",
       "      <td>0.985178</td>\n",
       "      <td>0.975237</td>\n",
       "      <td>...</td>\n",
       "      <td>0.918839</td>\n",
       "      <td>0.961254</td>\n",
       "      <td>0.988164</td>\n",
       "      <td>0.992983</td>\n",
       "      <td>0.975594</td>\n",
       "      <td>1.015694</td>\n",
       "      <td>0.909508</td>\n",
       "      <td>1.025633</td>\n",
       "      <td>0.970492</td>\n",
       "      <td>0.954426</td>\n",
       "    </tr>\n",
       "    <tr>\n",
       "      <th>2000-01-05</th>\n",
       "      <td>0.932576</td>\n",
       "      <td>1.025136</td>\n",
       "      <td>0.951999</td>\n",
       "      <td>0.956783</td>\n",
       "      <td>0.996661</td>\n",
       "      <td>0.954856</td>\n",
       "      <td>0.796776</td>\n",
       "      <td>0.934301</td>\n",
       "      <td>0.998158</td>\n",
       "      <td>1.020368</td>\n",
       "      <td>...</td>\n",
       "      <td>0.859642</td>\n",
       "      <td>1.024118</td>\n",
       "      <td>0.988164</td>\n",
       "      <td>0.992983</td>\n",
       "      <td>1.037391</td>\n",
       "      <td>1.106407</td>\n",
       "      <td>0.890020</td>\n",
       "      <td>1.003338</td>\n",
       "      <td>0.952636</td>\n",
       "      <td>0.953609</td>\n",
       "    </tr>\n",
       "    <tr>\n",
       "      <th>2000-01-06</th>\n",
       "      <td>0.887759</td>\n",
       "      <td>0.974617</td>\n",
       "      <td>0.978909</td>\n",
       "      <td>0.959091</td>\n",
       "      <td>0.971684</td>\n",
       "      <td>0.928900</td>\n",
       "      <td>0.799055</td>\n",
       "      <td>0.895234</td>\n",
       "      <td>1.034928</td>\n",
       "      <td>1.011113</td>\n",
       "      <td>...</td>\n",
       "      <td>0.839117</td>\n",
       "      <td>1.002558</td>\n",
       "      <td>0.983356</td>\n",
       "      <td>0.992983</td>\n",
       "      <td>1.076592</td>\n",
       "      <td>1.076747</td>\n",
       "      <td>0.909945</td>\n",
       "      <td>0.970081</td>\n",
       "      <td>0.935316</td>\n",
       "      <td>0.946623</td>\n",
       "    </tr>\n",
       "    <tr>\n",
       "      <th>2000-01-07</th>\n",
       "      <td>0.925183</td>\n",
       "      <td>0.966789</td>\n",
       "      <td>0.992273</td>\n",
       "      <td>0.961400</td>\n",
       "      <td>1.078360</td>\n",
       "      <td>0.938350</td>\n",
       "      <td>0.838709</td>\n",
       "      <td>0.945963</td>\n",
       "      <td>1.029779</td>\n",
       "      <td>1.013440</td>\n",
       "      <td>...</td>\n",
       "      <td>0.836153</td>\n",
       "      <td>0.998209</td>\n",
       "      <td>0.952517</td>\n",
       "      <td>0.957899</td>\n",
       "      <td>1.158079</td>\n",
       "      <td>1.084292</td>\n",
       "      <td>0.936608</td>\n",
       "      <td>0.992906</td>\n",
       "      <td>0.966416</td>\n",
       "      <td>0.977905</td>\n",
       "    </tr>\n",
       "  </tbody>\n",
       "</table>\n",
       "<p>5 rows × 21 columns</p>\n",
       "</div>"
      ],
      "text/plain": [
       "                LSCC      CSGS        EC       NYB      ALTR       APH  \\\n",
       "X.Y..m..d                                                                \n",
       "2000-01-03  1.031658  1.053085  0.980329  0.990826  1.059723  1.010382   \n",
       "2000-01-04  0.956883  1.028271  0.931887  0.959086  1.007980  0.976229   \n",
       "2000-01-05  0.932576  1.025136  0.951999  0.956783  0.996661  0.954856   \n",
       "2000-01-06  0.887759  0.974617  0.978909  0.959091  0.971684  0.928900   \n",
       "2000-01-07  0.925183  0.966789  0.992273  0.961400  1.078360  0.938350   \n",
       "\n",
       "                 CLS       NET      SBUX       AYE    ...          SBL  \\\n",
       "X.Y..m..d                                             ...                \n",
       "2000-01-03  0.960270  0.983740  1.016894  0.963558    ...     0.999017   \n",
       "2000-01-04  0.855932  0.922490  0.985178  0.975237    ...     0.918839   \n",
       "2000-01-05  0.796776  0.934301  0.998158  1.020368    ...     0.859642   \n",
       "2000-01-06  0.799055  0.895234  1.034928  1.011113    ...     0.839117   \n",
       "2000-01-07  0.838709  0.945963  1.029779  1.013440    ...     0.836153   \n",
       "\n",
       "                 PCZ       OSI       TRP       ROH        SU       MTD  \\\n",
       "X.Y..m..d                                                                \n",
       "2000-01-03  0.978495  0.980908  1.007168  0.992349  0.982196  0.928997   \n",
       "2000-01-04  0.961254  0.988164  0.992983  0.975594  1.015694  0.909508   \n",
       "2000-01-05  1.024118  0.988164  0.992983  1.037391  1.106407  0.890020   \n",
       "2000-01-06  1.002558  0.983356  0.992983  1.076592  1.076747  0.909945   \n",
       "2000-01-07  0.998209  0.952517  0.957899  1.158079  1.084292  0.936608   \n",
       "\n",
       "                 RAD       GUC    market  \n",
       "X.Y..m..d                                 \n",
       "2000-01-03  1.069740  1.002186  0.992902  \n",
       "2000-01-04  1.025633  0.970492  0.954426  \n",
       "2000-01-05  1.003338  0.952636  0.953609  \n",
       "2000-01-06  0.970081  0.935316  0.946623  \n",
       "2000-01-07  0.992906  0.966416  0.977905  \n",
       "\n",
       "[5 rows x 21 columns]"
      ]
     },
     "execution_count": 7,
     "metadata": {},
     "output_type": "execute_result"
    }
   ],
   "source": [
    "price.head()"
   ]
  },
  {
   "cell_type": "code",
   "execution_count": 10,
   "metadata": {},
   "outputs": [
    {
     "ename": "TypeError",
     "evalue": "coint() missing 1 required positional argument: 'y2'",
     "output_type": "error",
     "traceback": [
      "\u001b[0;31m---------------------------------------------------------------------------\u001b[0m",
      "\u001b[0;31mTypeError\u001b[0m                                 Traceback (most recent call last)",
      "\u001b[0;32m<ipython-input-10-728a28fc959f>\u001b[0m in \u001b[0;36m<module>\u001b[0;34m()\u001b[0m\n\u001b[1;32m      1\u001b[0m \u001b[0;32mimport\u001b[0m \u001b[0mstatsmodels\u001b[0m\u001b[0;34m.\u001b[0m\u001b[0mtsa\u001b[0m \u001b[0;32mas\u001b[0m \u001b[0mtsa\u001b[0m\u001b[0;34m\u001b[0m\u001b[0m\n\u001b[1;32m      2\u001b[0m \u001b[0;34m\u001b[0m\u001b[0m\n\u001b[0;32m----> 3\u001b[0;31m \u001b[0mmodel\u001b[0m\u001b[0;34m=\u001b[0m\u001b[0mtsa\u001b[0m\u001b[0;34m.\u001b[0m\u001b[0mstattools\u001b[0m\u001b[0;34m.\u001b[0m\u001b[0mcoint\u001b[0m\u001b[0;34m(\u001b[0m\u001b[0mprice\u001b[0m\u001b[0;34m)\u001b[0m\u001b[0;34m\u001b[0m\u001b[0m\n\u001b[0m",
      "\u001b[0;31mTypeError\u001b[0m: coint() missing 1 required positional argument: 'y2'"
     ]
    }
   ],
   "source": [
    "import statsmodels.tsa as tsa\n",
    "\n",
    "model=tsa.stattools.coint(price)"
   ]
  },
  {
   "cell_type": "code",
   "execution_count": null,
   "metadata": {
    "collapsed": true
   },
   "outputs": [],
   "source": []
  }
 ],
 "metadata": {
  "kernelspec": {
   "display_name": "Python 3",
   "language": "python",
   "name": "python3"
  },
  "language_info": {
   "codemirror_mode": {
    "name": "ipython",
    "version": 3
   },
   "file_extension": ".py",
   "mimetype": "text/x-python",
   "name": "python",
   "nbconvert_exporter": "python",
   "pygments_lexer": "ipython3",
   "version": "3.6.0"
  }
 },
 "nbformat": 4,
 "nbformat_minor": 2
}
