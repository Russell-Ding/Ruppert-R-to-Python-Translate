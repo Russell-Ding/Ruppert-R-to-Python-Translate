{
 "cells": [
  {
   "cell_type": "code",
   "execution_count": 1,
   "metadata": {
    "collapsed": true
   },
   "outputs": [],
   "source": [
    "import pandas as pd\n",
    "import numpy as np\n",
    "import matplotlib.pyplot as plt"
   ]
  },
  {
   "cell_type": "code",
   "execution_count": 2,
   "metadata": {
    "collapsed": true
   },
   "outputs": [],
   "source": [
    "#read data from the database\n",
    "data=pd.read_csv('Ruppert Dataset/Irates.csv')"
   ]
  },
  {
   "cell_type": "code",
   "execution_count": 3,
   "metadata": {},
   "outputs": [
    {
     "data": {
      "text/html": [
       "<div>\n",
       "<style>\n",
       "    .dataframe thead tr:only-child th {\n",
       "        text-align: right;\n",
       "    }\n",
       "\n",
       "    .dataframe thead th {\n",
       "        text-align: left;\n",
       "    }\n",
       "\n",
       "    .dataframe tbody tr th {\n",
       "        vertical-align: top;\n",
       "    }\n",
       "</style>\n",
       "<table border=\"1\" class=\"dataframe\">\n",
       "  <thead>\n",
       "    <tr style=\"text-align: right;\">\n",
       "      <th></th>\n",
       "      <th>r1</th>\n",
       "      <th>r2</th>\n",
       "      <th>r3</th>\n",
       "      <th>r5</th>\n",
       "      <th>r6</th>\n",
       "      <th>r11</th>\n",
       "      <th>r12</th>\n",
       "      <th>r36</th>\n",
       "      <th>r60</th>\n",
       "      <th>r120</th>\n",
       "    </tr>\n",
       "  </thead>\n",
       "  <tbody>\n",
       "    <tr>\n",
       "      <th>0</th>\n",
       "      <td>0.325</td>\n",
       "      <td>0.422</td>\n",
       "      <td>0.477</td>\n",
       "      <td>0.549</td>\n",
       "      <td>0.577</td>\n",
       "      <td>0.698</td>\n",
       "      <td>0.720</td>\n",
       "      <td>1.145</td>\n",
       "      <td>1.415</td>\n",
       "      <td>1.825</td>\n",
       "    </tr>\n",
       "    <tr>\n",
       "      <th>1</th>\n",
       "      <td>0.322</td>\n",
       "      <td>0.427</td>\n",
       "      <td>0.485</td>\n",
       "      <td>0.555</td>\n",
       "      <td>0.583</td>\n",
       "      <td>0.698</td>\n",
       "      <td>0.718</td>\n",
       "      <td>1.119</td>\n",
       "      <td>1.386</td>\n",
       "      <td>1.824</td>\n",
       "    </tr>\n",
       "    <tr>\n",
       "      <th>2</th>\n",
       "      <td>0.326</td>\n",
       "      <td>0.419</td>\n",
       "      <td>0.473</td>\n",
       "      <td>0.543</td>\n",
       "      <td>0.571</td>\n",
       "      <td>0.693</td>\n",
       "      <td>0.715</td>\n",
       "      <td>1.140</td>\n",
       "      <td>1.406</td>\n",
       "      <td>1.817</td>\n",
       "    </tr>\n",
       "    <tr>\n",
       "      <th>3</th>\n",
       "      <td>0.318</td>\n",
       "      <td>0.441</td>\n",
       "      <td>0.508</td>\n",
       "      <td>0.583</td>\n",
       "      <td>0.610</td>\n",
       "      <td>0.718</td>\n",
       "      <td>0.737</td>\n",
       "      <td>1.105</td>\n",
       "      <td>1.364</td>\n",
       "      <td>1.804</td>\n",
       "    </tr>\n",
       "    <tr>\n",
       "      <th>4</th>\n",
       "      <td>0.302</td>\n",
       "      <td>0.445</td>\n",
       "      <td>0.521</td>\n",
       "      <td>0.606</td>\n",
       "      <td>0.637</td>\n",
       "      <td>0.759</td>\n",
       "      <td>0.780</td>\n",
       "      <td>1.172</td>\n",
       "      <td>1.416</td>\n",
       "      <td>1.815</td>\n",
       "    </tr>\n",
       "  </tbody>\n",
       "</table>\n",
       "</div>"
      ],
      "text/plain": [
       "      r1     r2     r3     r5     r6    r11    r12    r36    r60   r120\n",
       "0  0.325  0.422  0.477  0.549  0.577  0.698  0.720  1.145  1.415  1.825\n",
       "1  0.322  0.427  0.485  0.555  0.583  0.698  0.718  1.119  1.386  1.824\n",
       "2  0.326  0.419  0.473  0.543  0.571  0.693  0.715  1.140  1.406  1.817\n",
       "3  0.318  0.441  0.508  0.583  0.610  0.718  0.737  1.105  1.364  1.804\n",
       "4  0.302  0.445  0.521  0.606  0.637  0.759  0.780  1.172  1.416  1.815"
      ]
     },
     "execution_count": 3,
     "metadata": {},
     "output_type": "execute_result"
    }
   ],
   "source": [
    "data.head()"
   ]
  },
  {
   "cell_type": "code",
   "execution_count": 7,
   "metadata": {},
   "outputs": [],
   "source": [
    "r1=data['r1']\n",
    "lag_r1=r1.shift().dropna()"
   ]
  },
  {
   "cell_type": "code",
   "execution_count": 11,
   "metadata": {},
   "outputs": [],
   "source": [
    "delta_r1=r1.diff().dropna()"
   ]
  },
  {
   "cell_type": "code",
   "execution_count": 17,
   "metadata": {},
   "outputs": [
    {
     "data": {
      "image/png": "[encoded data removed]",
      "text/plain": [
       "<matplotlib.figure.Figure at 0x10f796eb8>"
      ]
     },
     "metadata": {},
     "output_type": "display_data"
    }
   ],
   "source": [
    "%matplotlib inline\n",
    "#plot the figures\n",
    "fig,axes=plt.subplots(3,2);\n",
    "axe=axes.ravel()\n",
    "axe[0].plot(r1)\n",
    "axe[0].set_title('a')\n",
    "axe[0].set_ylabel('r1')\n",
    "\n",
    "axe[1].plot(delta_r1)\n",
    "axe[1].set_title('b')\n",
    "axe[1].set_ylabel('delta_r1')\n",
    "\n",
    "axe[2].plot(delta_r1**2)\n",
    "axe[2].set_title('c')\n",
    "axe[2].set_ylabel('delta_r1^2')\n",
    "\n",
    "axe[3].scatter(lag_r1,delta_r1)\n",
    "axe[3].set_title('d')\n",
    "axe[3].set_xlabel('lag_r1')\n",
    "axe[3].set_ylabel('delta_r1')\n",
    "\n",
    "axe[4].scatter(lag_r1,delta_r1**2)\n",
    "axe[4].set_title('e')\n",
    "axe[4].set_xlabel('lag_r1')\n",
    "axe[4].set_ylabel('delta_r1^2')\n",
    "\n",
    "fig.tight_layout()\n"
   ]
  },
  {
   "cell_type": "code",
   "execution_count": 31,
   "metadata": {},
   "outputs": [],
   "source": [
    "#use scipy least square optimizer \n",
    "\n",
    "#define the function first\n",
    "def fun(factor,delta1,lag1):\n",
    "    return delta1-factor[0]*(factor[1]-lag1)\n",
    "\n",
    "from scipy.optimize import leastsq\n",
    "param,cov_x,infodict,mesg,ier=leastsq(fun,x0=(0.01,5),args=(delta_r1,lag_r1),full_output=True)"
   ]
  },
  {
   "cell_type": "code",
   "execution_count": 32,
   "metadata": {},
   "outputs": [
    {
     "data": {
      "text/plain": [
       "array([ 0.01983913,  5.32754118])"
      ]
     },
     "execution_count": 32,
     "metadata": {},
     "output_type": "execute_result"
    }
   ],
   "source": [
    "param"
   ]
  },
  {
   "cell_type": "code",
   "execution_count": 33,
   "metadata": {},
   "outputs": [
    {
     "data": {
      "image/png": "[encoded data removed]",
      "text/plain": [
       "<matplotlib.figure.Figure at 0x11519f358>"
      ]
     },
     "metadata": {},
     "output_type": "display_data"
    }
   ],
   "source": [
    "plt.plot(lag_r1)\n",
    "plt.ylim((0,16))\n",
    "plt.ylabel('rate and theta')\n",
    "plt.axhline(y=param[1], hold=None,color='r')\n",
    "plt.show()"
   ]
  },
  {
   "cell_type": "code",
   "execution_count": 45,
   "metadata": {},
   "outputs": [],
   "source": [
    "#cov_x times error variance gives he variance covariance matrix\n",
    "var_cov=cov_x*(infodict['fvec']**2).sum()/(len(delta_r1-2))\n",
    "sd_a=np.sqrt(var_cov[0,0])\n",
    "sd_theta=np.sqrt(var_cov[1,1])"
   ]
  },
  {
   "cell_type": "code",
   "execution_count": 48,
   "metadata": {
    "scrolled": true
   },
   "outputs": [
    {
     "name": "stdout",
     "output_type": "stream",
     "text": [
      "lower bond for a is 0.003\n",
      "upper bond for a is 0.036\n",
      "lower bond for theta is 2.653\n",
      "upper bond for theta is 8.002\n"
     ]
    }
   ],
   "source": [
    "#Problem 3\n",
    "print(\"lower bond for a is {:.3f}\".format(param[0]-2*sd_a))\n",
    "print(\"upper bond for a is {:.3f}\".format(param[0]+2*sd_a))\n",
    "print(\"lower bond for theta is {:.3f}\".format(param[1]-2*sd_theta))\n",
    "print(\"upper bond for theta is {:.3f}\".format(param[1]+2*sd_theta))"
   ]
  },
  {
   "cell_type": "code",
   "execution_count": 54,
   "metadata": {},
   "outputs": [],
   "source": [
    "#The model provide the stimate for prameters of mu(r)=A(theta-lag_r)\n",
    "# We then need to use the residual to estimate parameters in variance\n",
    "\n",
    "#obtain the residual from previous model\n",
    "res_sq=infodict['fvec']**2\n",
    "\n",
    "#This time, we use curve_fit to run the same function\n",
    "\n",
    "def func(lagr,A,B):\n",
    "    return A*lagr**B\n",
    "\n",
    "from scipy.optimize import curve_fit\n",
    "\n",
    "popt, pcov = curve_fit(func, lag_r1, res_sq)"
   ]
  },
  {
   "cell_type": "code",
   "execution_count": 55,
   "metadata": {},
   "outputs": [
    {
     "data": {
      "text/plain": [
       "array([  1.29977074e-03,   2.97322514e+00])"
      ]
     },
     "execution_count": 55,
     "metadata": {},
     "output_type": "execute_result"
    }
   ],
   "source": [
    "popt"
   ]
  },
  {
   "cell_type": "markdown",
   "metadata": {},
   "source": [
    "The above result is the same as obtained in R"
   ]
  },
  {
   "cell_type": "code",
   "execution_count": 61,
   "metadata": {
    "scrolled": true
   },
   "outputs": [
    {
     "data": {
      "image/png": "[encoded data removed]",
      "text/plain": [
       "<matplotlib.figure.Figure at 0x115700518>"
      ]
     },
     "metadata": {},
     "output_type": "display_data"
    }
   ],
   "source": [
    "#plot the lag_r1 and \n",
    "plt.scatter(lag_r1,np.sqrt(res_sq));\n",
    "plt.plot(sorted(lag_r1),np.sqrt(func(sorted(lag_r1),popt[0],popt[1])),color='r');"
   ]
  },
  {
   "cell_type": "code",
   "execution_count": null,
   "metadata": {
    "collapsed": true
   },
   "outputs": [],
   "source": [
    "#Problem 4 may not be very straight forward since we are not sure how the estimators sigma^2 and 2gamma are distributed"
   ]
  },
  {
   "cell_type": "code",
   "execution_count": 82,
   "metadata": {},
   "outputs": [],
   "source": [
    "#Apply the weights to run the regression again\n",
    "\n",
    "#Original book uses variance to adjust the weights\n",
    "\n",
    "def func1(lagr,a,theta):\n",
    "    return a*(theta-lagr)\n",
    "\n",
    "nlmod_CKLS_wt_para1,nlmod_CKLS_wt_cov1=\\\n",
    "curve_fit(func1,\\\n",
    "          np.multiply(lag_r1,1/func(lag_r1,popt[0],popt[1])),\\\n",
    "          np.multiply(delta_r1,1/func(lag_r1,popt[0],popt[1])))\n",
    "\n",
    "#Using standard derivation for different observation\n",
    "\n",
    "nlmod_CKLS_wt_para2,nlmod_CKLS_wt_cov2=\\\n",
    "curve_fit(func1,\\\n",
    "          np.multiply(lag_r1,1/np.sqrt(func(lag_r1,popt[0],popt[1]))),\\\n",
    "          np.multiply(delta_r1,1/np.sqrt(func(lag_r1,popt[0],popt[1]))))\n",
    "\n"
   ]
  },
  {
   "cell_type": "code",
   "execution_count": 84,
   "metadata": {
    "collapsed": true
   },
   "outputs": [],
   "source": [
    "nlmod_CKLS_wt_para3,nlmod_CKLS_wt_cov3=\\\n",
    "curve_fit(func1,\\\n",
    "          lag_r1,\\\n",
    "          delta_r1,sigma=1/func(lag_r1,popt[0],popt[1]),absolute_sigma=True)\n",
    "\n",
    "#Using standard derivation for different observation\n",
    "\n",
    "nlmod_CKLS_wt_para4,nlmod_CKLS_wt_cov4=\\\n",
    "curve_fit(func1,\\\n",
    "          lag_r1,\\\n",
    "          delta_r1,sigma=1/np.sqrt(func(lag_r1,popt[0],popt[1])),absolute_sigma=True)\n",
    "\n"
   ]
  },
  {
   "cell_type": "code",
   "execution_count": 78,
   "metadata": {},
   "outputs": [
    {
     "data": {
      "image/png": "[encoded data removed]",
      "text/plain": [
       "<matplotlib.figure.Figure at 0x114dccc18>"
      ]
     },
     "metadata": {},
     "output_type": "display_data"
    }
   ],
   "source": [
    "plt.plot(lag_r1)\n",
    "plt.ylim((0,16))\n",
    "plt.ylabel('rate and theta')\n",
    "plt.axhline(y=nlmod_CKLS_wt_para2[1]/np.mean(1/np.sqrt(func(lag_r1,popt[0],popt[1]))), hold=None,color='r')\n",
    "plt.show()"
   ]
  },
  {
   "cell_type": "code",
   "execution_count": 79,
   "metadata": {
    "scrolled": true
   },
   "outputs": [
    {
     "data": {
      "text/plain": [
       "array([-0.00089932,  0.30708457])"
      ]
     },
     "execution_count": 79,
     "metadata": {},
     "output_type": "execute_result"
    }
   ],
   "source": [
    "nlmod_CKLS_wt_para1/np.mean(1/func(lag_r1,popt[0],popt[1]))"
   ]
  },
  {
   "cell_type": "code",
   "execution_count": 83,
   "metadata": {},
   "outputs": [
    {
     "data": {
      "text/plain": [
       "array([-0.02415569,  1.39119038])"
      ]
     },
     "execution_count": 83,
     "metadata": {},
     "output_type": "execute_result"
    }
   ],
   "source": [
    "nlmod_CKLS_wt_para2/np.mean(1/np.sqrt(func(lag_r1,popt[0],popt[1])))"
   ]
  },
  {
   "cell_type": "code",
   "execution_count": 85,
   "metadata": {},
   "outputs": [
    {
     "data": {
      "text/plain": [
       "array([  0.20484588,  10.16998749])"
      ]
     },
     "execution_count": 85,
     "metadata": {},
     "output_type": "execute_result"
    }
   ],
   "source": [
    "nlmod_CKLS_wt_para3"
   ]
  },
  {
   "cell_type": "code",
   "execution_count": 86,
   "metadata": {},
   "outputs": [
    {
     "data": {
      "text/plain": [
       "array([ 0.09752468,  7.98290653])"
      ]
     },
     "execution_count": 86,
     "metadata": {},
     "output_type": "execute_result"
    }
   ],
   "source": [
    "nlmod_CKLS_wt_para4"
   ]
  },
  {
   "cell_type": "code",
   "execution_count": null,
   "metadata": {
    "collapsed": true
   },
   "outputs": [],
   "source": []
  }
 ],
 "metadata": {
  "kernelspec": {
   "display_name": "Python 3",
   "language": "python",
   "name": "python3"
  },
  "language_info": {
   "codemirror_mode": {
    "name": "ipython",
    "version": 3
   },
   "file_extension": ".py",
   "mimetype": "text/x-python",
   "name": "python",
   "nbconvert_exporter": "python",
   "pygments_lexer": "ipython3",
   "version": "3.6.1"
  }
 },
 "nbformat": 4,
 "nbformat_minor": 2
}
